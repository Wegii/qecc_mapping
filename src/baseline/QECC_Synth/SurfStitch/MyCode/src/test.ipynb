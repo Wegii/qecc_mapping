{
 "cells": [
  {
   "cell_type": "code",
   "execution_count": 26,
   "metadata": {},
   "outputs": [],
   "source": [
    "import networkx as nx\n",
    "import numpy as np\n",
    "from qiskit import QuantumCircuit\n",
    "# from qiskit.circuit.library import Permutation\n",
    "from sympy.combinatorics import Permutation\n",
    "from qiskit.transpiler import CouplingMap, PassManager\n",
    "from qiskit.transpiler.passes import SabreSwap, SabreLayout, ApplyLayout, FullAncillaAllocation, EnlargeWithAncilla"
   ]
  },
  {
   "cell_type": "code",
   "execution_count": 27,
   "metadata": {},
   "outputs": [],
   "source": [
    "n = 4\n",
    "circ = QuantumCircuit(n)\n",
    "for i in range(n):\n",
    "    for j in range(i):\n",
    "        circ.cx(i, j)\n",
    "\n",
    "cm = CouplingMap(\n",
    "    [(i, i+1) for i in range(n)]\n",
    ")"
   ]
  },
  {
   "cell_type": "code",
   "execution_count": 28,
   "metadata": {},
   "outputs": [
    {
     "name": "stdout",
     "output_type": "stream",
     "text": [
      "     ┌───┐┌───┐     ┌───┐          \n",
      "q_0: ┤ X ├┤ X ├─────┤ X ├──────────\n",
      "     └─┬─┘└─┬─┘┌───┐└─┬─┘┌───┐     \n",
      "q_1: ──■────┼──┤ X ├──┼──┤ X ├─────\n",
      "            │  └─┬─┘  │  └─┬─┘┌───┐\n",
      "q_2: ───────■────■────┼────┼──┤ X ├\n",
      "                      │    │  └─┬─┘\n",
      "q_3: ─────────────────■────■────■──\n",
      "                                   \n"
     ]
    }
   ],
   "source": [
    "print(circ)\n"
   ]
  },
  {
   "cell_type": "code",
   "execution_count": 29,
   "metadata": {},
   "outputs": [],
   "source": [
    "sabre_layout = SabreLayout(cm, seed=42)\n",
    "pm = PassManager([sabre_layout])\n"
   ]
  },
  {
   "cell_type": "code",
   "execution_count": 30,
   "metadata": {},
   "outputs": [],
   "source": [
    "mapped_circ = pm.run(circ)"
   ]
  },
  {
   "cell_type": "code",
   "execution_count": 31,
   "metadata": {},
   "outputs": [
    {
     "name": "stdout",
     "output_type": "stream",
     "text": [
      "                                                 \n",
      "ancilla_0 -> 0 ──────────────────────────────────\n",
      "                                                 \n",
      "      q_3 -> 1 ───────────────■───X──────────────\n",
      "                            ┌─┴─┐ │         ┌───┐\n",
      "      q_2 -> 2 ───────■───X─┤ X ├─X──X──────┤ X ├\n",
      "               ┌───┐┌─┴─┐ │ └───┘    │      └─┬─┘\n",
      "      q_0 -> 3 ┤ X ├┤ X ├─X───■──────X───■────■──\n",
      "               └─┬─┘└───┘   ┌─┴─┐      ┌─┴─┐     \n",
      "      q_1 -> 4 ──■──────────┤ X ├──────┤ X ├─────\n",
      "                            └───┘      └───┘     \n"
     ]
    }
   ],
   "source": [
    "print(mapped_circ)\n"
   ]
  },
  {
   "cell_type": "code",
   "execution_count": 32,
   "metadata": {},
   "outputs": [
    {
     "data": {
      "text/plain": [
       "Layout({\n",
       "3: Qubit(QuantumRegister(4, 'q'), 0),\n",
       "4: Qubit(QuantumRegister(4, 'q'), 1),\n",
       "2: Qubit(QuantumRegister(4, 'q'), 2),\n",
       "1: Qubit(QuantumRegister(4, 'q'), 3),\n",
       "0: Qubit(QuantumRegister(1, 'ancilla'), 0)\n",
       "})"
      ]
     },
     "execution_count": 32,
     "metadata": {},
     "output_type": "execute_result"
    }
   ],
   "source": [
    "mapped_circ.layout.initial_layout"
   ]
  },
  {
   "cell_type": "code",
   "execution_count": 33,
   "metadata": {},
   "outputs": [
    {
     "name": "stdout",
     "output_type": "stream",
     "text": [
      "[0, 3, 2, 1, 4]\n"
     ]
    }
   ],
   "source": [
    "pattern = mapped_circ.layout.routing_permutation()\n",
    "print(pattern)"
   ]
  },
  {
   "cell_type": "code",
   "execution_count": 34,
   "metadata": {},
   "outputs": [
    {
     "name": "stdout",
     "output_type": "stream",
     "text": [
      "[[1, 3]]\n"
     ]
    }
   ],
   "source": [
    "print(Permutation(pattern).cyclic_form)"
   ]
  },
  {
   "cell_type": "code",
   "execution_count": 35,
   "metadata": {},
   "outputs": [],
   "source": [
    "# P = Permutation(len(pattern), pattern).decompose()"
   ]
  },
  {
   "cell_type": "code",
   "execution_count": 36,
   "metadata": {},
   "outputs": [],
   "source": [
    "# P = Permutation(len(pattern), pattern).decompose()\n",
    "# print(P)"
   ]
  },
  {
   "cell_type": "code",
   "execution_count": 37,
   "metadata": {},
   "outputs": [],
   "source": [
    "CG = np.array(\n",
    "    [\n",
    "        [0, 1, 0, 0],\n",
    "        [1, 0, 1, 0],\n",
    "        [0, 1, 0, 1],\n",
    "        [0, 0, 1, 0],\n",
    "    ]\n",
    ")\n",
    "G = nx.from_numpy_array(CG)\n"
   ]
  },
  {
   "cell_type": "code",
   "execution_count": 38,
   "metadata": {},
   "outputs": [],
   "source": [
    "# mapped_circ.barrier()\n",
    "\n",
    "# for s in P.data:\n",
    "#     q0 = s.qubits[0]._index\n",
    "#     q1 = s.qubits[1]._index\n",
    "#     path = nx.dijkstra_path(G, q0, q1)\n",
    "#     for i in range(len(path)-2):\n",
    "#         mapped_circ.swap(path[i], path[i+1])\n",
    "#     mapped_circ.swap(path[-2], path[-1])\n",
    "#     for i in reversed(range(len(path)-2)):\n",
    "#         mapped_circ.swap(path[i], path[i+1])\n",
    "    "
   ]
  },
  {
   "cell_type": "code",
   "execution_count": 39,
   "metadata": {},
   "outputs": [
    {
     "name": "stdout",
     "output_type": "stream",
     "text": [
      "                                                 \n",
      "ancilla_0 -> 0 ──────────────────────────────────\n",
      "                                                 \n",
      "      q_3 -> 1 ───────────────■───X──────────────\n",
      "                            ┌─┴─┐ │         ┌───┐\n",
      "      q_2 -> 2 ───────■───X─┤ X ├─X──X──────┤ X ├\n",
      "               ┌───┐┌─┴─┐ │ └───┘    │      └─┬─┘\n",
      "      q_0 -> 3 ┤ X ├┤ X ├─X───■──────X───■────■──\n",
      "               └─┬─┘└───┘   ┌─┴─┐      ┌─┴─┐     \n",
      "      q_1 -> 4 ──■──────────┤ X ├──────┤ X ├─────\n",
      "                            └───┘      └───┘     \n"
     ]
    }
   ],
   "source": [
    "print(mapped_circ)"
   ]
  },
  {
   "cell_type": "code",
   "execution_count": 40,
   "metadata": {},
   "outputs": [],
   "source": [
    "map_source = [3, 2]\n",
    "map_target = [0, 2]"
   ]
  },
  {
   "cell_type": "code",
   "execution_count": 41,
   "metadata": {},
   "outputs": [
    {
     "name": "stdout",
     "output_type": "stream",
     "text": [
      "[(3, 0)]\n"
     ]
    }
   ],
   "source": [
    "DataNum = 3\n",
    "Swaps= []\n",
    "while set(map_target).difference(map_source):\n",
    "    q = set(map_target).difference(map_source).pop()\n",
    "    idx = map_target.index(q)\n",
    "    Swaps.append((map_source[idx], map_target[idx]))\n",
    "    map_source[idx] = map_target[idx]\n",
    "print(Swaps)"
   ]
  },
  {
   "cell_type": "code",
   "execution_count": 42,
   "metadata": {},
   "outputs": [
    {
     "name": "stdout",
     "output_type": "stream",
     "text": [
      "[0, 2] [0, 2]\n"
     ]
    }
   ],
   "source": [
    "print(map_source, map_target)"
   ]
  },
  {
   "cell_type": "code",
   "execution_count": 43,
   "metadata": {},
   "outputs": [
    {
     "name": "stdout",
     "output_type": "stream",
     "text": [
      "[(3, 0)]\n"
     ]
    }
   ],
   "source": [
    "if map_source != map_target:\n",
    "    pattern = []\n",
    "    for idx in range(DataNum):\n",
    "        if map_source[idx] == map_target[idx]:\n",
    "            pattern.append(idx)\n",
    "        else:\n",
    "            pattern.append(map_target.index(map_source[idx]))\n",
    "    for idx0, idx1 in Permutation(pattern).cyclic_form:\n",
    "        Swaps.append((map_source[idx0], map_source[idx1]))\n",
    "print(Swaps)"
   ]
  },
  {
   "cell_type": "code",
   "execution_count": 44,
   "metadata": {},
   "outputs": [],
   "source": [
    "Swap_layer = []\n",
    "map_source = [3, 2]\n",
    "\n",
    "for q0, q1 in Swaps:\n",
    "    path = nx.dijkstra_path(G, q0, q1)\n",
    "    for i, j in zip(path[:-1], path[1:]):\n",
    "        if i in map_source or j in map_source:\n",
    "            map_source = [i if q == j else (j if q == i else q) for q in map_source]\n",
    "            Swap_layer.append([i, j])\n",
    "\n",
    "    for i, j in zip(reversed(path[:-2]), reversed(path[1:-1])):\n",
    "        if i in map_source or j in map_source:\n",
    "            map_source = [i if q == j else (j if q == i else q) for q in map_source]\n",
    "            Swap_layer.append([i, j])\n",
    "\n",
    "Swap_layer\n",
    "assert map_source == map_target"
   ]
  },
  {
   "cell_type": "code",
   "execution_count": null,
   "metadata": {},
   "outputs": [],
   "source": []
  },
  {
   "cell_type": "code",
   "execution_count": 45,
   "metadata": {},
   "outputs": [
    {
     "name": "stdout",
     "output_type": "stream",
     "text": [
      "\n"
     ]
    }
   ],
   "source": [
    "print()"
   ]
  },
  {
   "cell_type": "code",
   "execution_count": 46,
   "metadata": {},
   "outputs": [
    {
     "ename": "NameError",
     "evalue": "name 'QC' is not defined",
     "output_type": "error",
     "traceback": [
      "\u001b[0;31m---------------------------------------------------------------------------\u001b[0m",
      "\u001b[0;31mNameError\u001b[0m                                 Traceback (most recent call last)",
      "Cell \u001b[0;32mIn[46], line 1\u001b[0m\n\u001b[0;32m----> 1\u001b[0m \u001b[43mQC\u001b[49m\u001b[38;5;241m.\u001b[39mto_instruction()\n",
      "\u001b[0;31mNameError\u001b[0m: name 'QC' is not defined"
     ]
    }
   ],
   "source": [
    "QC.to_instruction()"
   ]
  },
  {
   "cell_type": "code",
   "execution_count": null,
   "metadata": {},
   "outputs": [
    {
     "name": "stdout",
     "output_type": "stream",
     "text": [
      "                     \n",
      " q_0: ─────────────X─\n",
      "                   │ \n",
      " q_1: ─────────────┼─\n",
      "                   │ \n",
      " q_2: ──────────X──X─\n",
      "                │    \n",
      " q_3: ──────────┼────\n",
      "                │    \n",
      " q_4: ──────────┼──X─\n",
      "                │  │ \n",
      " q_5: ───────X──X──┼─\n",
      "             │     │ \n",
      " q_6: ───────┼─────┼─\n",
      "             │     │ \n",
      " q_7: ───────┼─────┼─\n",
      "             │     │ \n",
      " q_8: ───────┼─────┼─\n",
      "             │     │ \n",
      " q_9: ───────┼─────┼─\n",
      "             │     │ \n",
      "q_10: ───────┼─────┼─\n",
      "             │     │ \n",
      "q_11: ─X─────┼─────┼─\n",
      "       │     │     │ \n",
      "q_12: ─┼─────┼─────┼─\n",
      "       │     │     │ \n",
      "q_13: ─┼──X──┼─────┼─\n",
      "       │  │  │     │ \n",
      "q_14: ─X──┼──┼─────┼─\n",
      "          │  │     │ \n",
      "q_15: ────X──X─────X─\n",
      "                     \n"
     ]
    }
   ],
   "source": [
    "print(QC.decompose([QC.to_instruction().name]))"
   ]
  }
 ],
 "metadata": {
  "kernelspec": {
   "display_name": "keyi",
   "language": "python",
   "name": "python3"
  },
  "language_info": {
   "codemirror_mode": {
    "name": "ipython",
    "version": 3
   },
   "file_extension": ".py",
   "mimetype": "text/x-python",
   "name": "python",
   "nbconvert_exporter": "python",
   "pygments_lexer": "ipython3",
   "version": "3.12.2"
  }
 },
 "nbformat": 4,
 "nbformat_minor": 2
}
