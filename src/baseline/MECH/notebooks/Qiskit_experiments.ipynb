{
 "cells": [
  {
   "cell_type": "code",
   "execution_count": null,
   "metadata": {},
   "outputs": [],
   "source": [
    "from QiskitBenchmarks import *\n",
    "import os\n",
    "import json\n",
    "%load_ext autoreload\n",
    "%autoreload 2\n",
    "\n",
    "directory_path = \"baseline_data\"\n",
    "if not os.path.exists(directory_path):\n",
    "    os.makedirs(directory_path)"
   ]
  },
  {
   "cell_type": "code",
   "execution_count": null,
   "metadata": {},
   "outputs": [],
   "source": [
    "structure='square'\n",
    "chiplet_array_dim=(3,3)\n",
    "chiplet_size=(6,6)\n",
    "data_qubit_num = None\n",
    "sparsity = None\n",
    "iterations = 1"
   ]
  },
  {
   "cell_type": "code",
   "execution_count": null,
   "metadata": {},
   "outputs": [],
   "source": [
    "mode_result_dict = dict()\n",
    "for mode in ['sabre', 'level_2']:\n",
    "    print('\\n'+'-'*16+'mode = ', mode)\n",
    "    exp_result = Qiskit_experiments(structure=structure, chiplet_array_dim=chiplet_array_dim, chiplet_size=chiplet_size, data_qubit_num=data_qubit_num, cross_link_sparsity=sparsity, iterations=iterations, mode=mode)\n",
    "    mode_result_dict[mode] = exp_result\n",
    "    print(exp_result)\n",
    "\n",
    "additional_comment = ''\n",
    "if data_qubit_num is not None:\n",
    "    additional_comment += '_{}qubit'.format(data_qubit_num)\n",
    "if sparsity is not None:\n",
    "    additional_comment += '_sparsity{}'.format(sparsity)\n",
    "\n",
    "s = '_'.join([s[:3] for s in structure.split('_')])\n",
    "file_name = \"{}{}{}{}{}{}.json\".format(s, chiplet_array_dim[0], chiplet_array_dim[1], chiplet_size[0], chiplet_size[1], additional_comment)\n",
    "file_path = os.path.join(directory_path, file_name)\n",
    "\n",
    "with open(file_path, 'w') as json_file:\n",
    "    json.dump(mode_result_dict, json_file)\n",
    "\n",
    "print(f\"The dictionary has been written to {file_path}\")"
   ]
  },
  {
   "cell_type": "code",
   "execution_count": null,
   "metadata": {},
   "outputs": [],
   "source": [
    "mode_result_dict = dict()\n",
    "for mode in ['level_3']:\n",
    "    print('-'*16+'mode = ', mode)\n",
    "    exp_result = Qiskit_experiments(structure=structure, chiplet_array_dim=chiplet_array_dim, chiplet_size=chiplet_size, data_qubit_num=data_qubit_num, cross_link_sparsity=sparsity, iterations=iterations, mode=mode)\n",
    "    mode_result_dict[mode] = exp_result\n",
    "    print(exp_result)\n",
    "\n",
    "additional_comment = ''\n",
    "if data_qubit_num is not None:\n",
    "    additional_comment += '_{}qubit'.format(data_qubit_num)\n",
    "if sparsity is not None:\n",
    "    additional_comment += '_sparsity{}'.format(sparsity)\n",
    "\n",
    "s = '_'.join([s[:3] for s in structure.split('_')])\n",
    "file_name = \"{}{}{}{}{}{}_level_3.json\".format(s, chiplet_array_dim[0], chiplet_array_dim[1], chiplet_size[0], chiplet_size[1], additional_comment)\n",
    "file_path = os.path.join(directory_path, file_name)\n",
    "\n",
    "with open(file_path, 'w') as json_file:\n",
    "    json.dump(mode_result_dict, json_file)\n",
    "\n",
    "print(f\"The dictionary has been written to {file_path}\")"
   ]
  }
 ],
 "metadata": {
  "kernelspec": {
   "display_name": "Python 3",
   "language": "python",
   "name": "python3"
  },
  "language_info": {
   "codemirror_mode": {
    "name": "ipython",
    "version": 3
   },
   "file_extension": ".py",
   "mimetype": "text/x-python",
   "name": "python",
   "nbconvert_exporter": "python",
   "pygments_lexer": "ipython3",
   "version": "3.9.6"
  },
  "orig_nbformat": 4
 },
 "nbformat": 4,
 "nbformat_minor": 2
}
