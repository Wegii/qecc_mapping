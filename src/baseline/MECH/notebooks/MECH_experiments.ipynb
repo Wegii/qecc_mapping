{
 "cells": [
  {
   "cell_type": "code",
   "execution_count": null,
   "metadata": {},
   "outputs": [],
   "source": [
    "from MECHBenchmarks import *\n",
    "import json\n",
    "import os\n",
    "%load_ext autoreload\n",
    "%autoreload 2\n",
    "\n",
    "directory_path = \"exp_data\"\n",
    "if not os.path.exists(directory_path):\n",
    "    os.makedirs(directory_path)"
   ]
  },
  {
   "cell_type": "code",
   "execution_count": null,
   "metadata": {},
   "outputs": [],
   "source": [
    "structure='hexagon'\n",
    "chiplet_array_dim=(3,3)\n",
    "chiplet_size=(8,8)\n",
    "\n",
    "exp_result = MECH_experiments(structure=structure, chiplet_array_dim=chiplet_array_dim, chiplet_size=chiplet_size, cross_link_sparsity=1)\n",
    "print(exp_result)"
   ]
  },
  {
   "cell_type": "code",
   "execution_count": null,
   "metadata": {},
   "outputs": [],
   "source": [
    "structure_abbr = '_'.join([s[:3] for s in structure.split('_')])\n",
    "file_path = \"./exp_data/{}{}{}{}{}.json\".format(structure_abbr, chiplet_array_dim[0], chiplet_array_dim[1], chiplet_size[0], chiplet_size[1])\n",
    "\n",
    "with open(file_path, 'w') as json_file:\n",
    "    json.dump(exp_result, json_file)\n",
    "\n",
    "print(f\"The dictionary has been written to {file_path}\")"
   ]
  }
 ],
 "metadata": {
  "kernelspec": {
   "display_name": "Python 3",
   "language": "python",
   "name": "python3"
  },
  "language_info": {
   "codemirror_mode": {
    "name": "ipython",
    "version": 3
   },
   "file_extension": ".py",
   "mimetype": "text/x-python",
   "name": "python",
   "nbconvert_exporter": "python",
   "pygments_lexer": "ipython3",
   "version": "3.9.6"
  },
  "orig_nbformat": 4
 },
 "nbformat": 4,
 "nbformat_minor": 2
}
